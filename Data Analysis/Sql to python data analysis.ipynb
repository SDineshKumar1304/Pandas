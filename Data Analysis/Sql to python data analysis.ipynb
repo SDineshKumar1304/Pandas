{
 "cells": [
  {
   "cell_type": "code",
   "execution_count": 3,
   "id": "f589a13c",
   "metadata": {},
   "outputs": [],
   "source": [
    "import pandas as pd\n",
    "import numpy as np\n",
    "import seaborn as sns\n",
    "import matplotlib.pyplot as plt\n",
    "import pymysql"
   ]
  },
  {
   "cell_type": "code",
   "execution_count": 4,
   "id": "ef949f0b",
   "metadata": {},
   "outputs": [],
   "source": [
    "db_connection = pymysql.connect(host=\"localhost\",user=\"root\",password=\"root\",database=\"DINESH\")"
   ]
  },
  {
   "cell_type": "code",
   "execution_count": 5,
   "id": "acd32d50",
   "metadata": {},
   "outputs": [
    {
     "data": {
      "text/plain": [
       "<pymysql.connections.Connection at 0x237900fbb20>"
      ]
     },
     "execution_count": 5,
     "metadata": {},
     "output_type": "execute_result"
    }
   ],
   "source": [
    "db_connection"
   ]
  },
  {
   "cell_type": "code",
   "execution_count": 6,
   "id": "56490060",
   "metadata": {},
   "outputs": [
    {
     "name": "stderr",
     "output_type": "stream",
     "text": [
      "C:\\Users\\svani\\AppData\\Local\\Temp\\ipykernel_5308\\2666595371.py:1: UserWarning: pandas only supports SQLAlchemy connectable (engine/connection) or database string URI or sqlite3 DBAPI2 connection. Other DBAPI2 objects are not tested. Please consider using SQLAlchemy.\n",
      "  data=pd.read_sql_query(\"\"\"select * from Walmart\"\"\",db_connection,parse_dates=True)\n"
     ]
    }
   ],
   "source": [
    "data=pd.read_sql_query(\"\"\"select * from Walmart\"\"\",db_connection,parse_dates=True)"
   ]
  },
  {
   "cell_type": "code",
   "execution_count": 7,
   "id": "ac5304bb",
   "metadata": {},
   "outputs": [
    {
     "data": {
      "text/html": [
       "<div>\n",
       "<style scoped>\n",
       "    .dataframe tbody tr th:only-of-type {\n",
       "        vertical-align: middle;\n",
       "    }\n",
       "\n",
       "    .dataframe tbody tr th {\n",
       "        vertical-align: top;\n",
       "    }\n",
       "\n",
       "    .dataframe thead th {\n",
       "        text-align: right;\n",
       "    }\n",
       "</style>\n",
       "<table border=\"1\" class=\"dataframe\">\n",
       "  <thead>\n",
       "    <tr style=\"text-align: right;\">\n",
       "      <th></th>\n",
       "      <th>OrderID</th>\n",
       "      <th>OrderDate</th>\n",
       "      <th>ShipDate</th>\n",
       "      <th>Status</th>\n",
       "      <th>CustomerName</th>\n",
       "      <th>Country</th>\n",
       "      <th>City</th>\n",
       "      <th>State</th>\n",
       "      <th>Category</th>\n",
       "      <th>ProductName</th>\n",
       "      <th>Sales</th>\n",
       "      <th>Quantity</th>\n",
       "      <th>Profit</th>\n",
       "    </tr>\n",
       "  </thead>\n",
       "  <tbody>\n",
       "    <tr>\n",
       "      <th>0</th>\n",
       "      <td>CA-2013-138688</td>\n",
       "      <td>2013-06-13</td>\n",
       "      <td>2013-06-17</td>\n",
       "      <td>On time</td>\n",
       "      <td>DarrinVanHuff</td>\n",
       "      <td>United States</td>\n",
       "      <td>Los Angeles</td>\n",
       "      <td>California</td>\n",
       "      <td>Labels</td>\n",
       "      <td>Self-Adhesive Address Labels for Typewriters b...</td>\n",
       "      <td>14.62</td>\n",
       "      <td>2</td>\n",
       "      <td>6.87</td>\n",
       "    </tr>\n",
       "    <tr>\n",
       "      <th>1</th>\n",
       "      <td>CA-2011-115812</td>\n",
       "      <td>2013-06-14</td>\n",
       "      <td>2013-06-18</td>\n",
       "      <td>Delay</td>\n",
       "      <td>BrosinaHoffman</td>\n",
       "      <td>United States</td>\n",
       "      <td>Los Angeles</td>\n",
       "      <td>California</td>\n",
       "      <td>Furnishings</td>\n",
       "      <td>Eldon Expressions Wood and Plastic Desk Access...</td>\n",
       "      <td>48.86</td>\n",
       "      <td>7</td>\n",
       "      <td>14.17</td>\n",
       "    </tr>\n",
       "    <tr>\n",
       "      <th>2</th>\n",
       "      <td>CA-2011-115812</td>\n",
       "      <td>2013-06-15</td>\n",
       "      <td>2013-06-19</td>\n",
       "      <td>Delay</td>\n",
       "      <td>BrosinaHoffman</td>\n",
       "      <td>United States</td>\n",
       "      <td>Los Angeles</td>\n",
       "      <td>California</td>\n",
       "      <td>Art</td>\n",
       "      <td>Newell 322</td>\n",
       "      <td>7.28</td>\n",
       "      <td>4</td>\n",
       "      <td>1.97</td>\n",
       "    </tr>\n",
       "    <tr>\n",
       "      <th>3</th>\n",
       "      <td>CA-2011-115812</td>\n",
       "      <td>2013-06-16</td>\n",
       "      <td>2013-06-20</td>\n",
       "      <td>Delay</td>\n",
       "      <td>BrosinaHoffman</td>\n",
       "      <td>United States</td>\n",
       "      <td>Los Angeles</td>\n",
       "      <td>California</td>\n",
       "      <td>Phones</td>\n",
       "      <td>Mitel 5320 IP Phone VoIP phone</td>\n",
       "      <td>907.15</td>\n",
       "      <td>4</td>\n",
       "      <td>90.72</td>\n",
       "    </tr>\n",
       "    <tr>\n",
       "      <th>4</th>\n",
       "      <td>CA-2011-115812</td>\n",
       "      <td>2013-06-17</td>\n",
       "      <td>2013-06-21</td>\n",
       "      <td>Delay</td>\n",
       "      <td>BrosinaHoffman</td>\n",
       "      <td>United States</td>\n",
       "      <td>Los Angeles</td>\n",
       "      <td>California</td>\n",
       "      <td>Binders</td>\n",
       "      <td>DXL Angle-View Binders with Locking Rings by S...</td>\n",
       "      <td>18.50</td>\n",
       "      <td>3</td>\n",
       "      <td>5.78</td>\n",
       "    </tr>\n",
       "  </tbody>\n",
       "</table>\n",
       "</div>"
      ],
      "text/plain": [
       "          OrderID   OrderDate    ShipDate   Status    CustomerName  \\\n",
       "0  CA-2013-138688  2013-06-13  2013-06-17  On time   DarrinVanHuff   \n",
       "1  CA-2011-115812  2013-06-14  2013-06-18    Delay  BrosinaHoffman   \n",
       "2  CA-2011-115812  2013-06-15  2013-06-19    Delay  BrosinaHoffman   \n",
       "3  CA-2011-115812  2013-06-16  2013-06-20    Delay  BrosinaHoffman   \n",
       "4  CA-2011-115812  2013-06-17  2013-06-21    Delay  BrosinaHoffman   \n",
       "\n",
       "         Country         City       State     Category  \\\n",
       "0  United States  Los Angeles  California       Labels   \n",
       "1  United States  Los Angeles  California  Furnishings   \n",
       "2  United States  Los Angeles  California          Art   \n",
       "3  United States  Los Angeles  California       Phones   \n",
       "4  United States  Los Angeles  California      Binders   \n",
       "\n",
       "                                         ProductName   Sales  Quantity  Profit  \n",
       "0  Self-Adhesive Address Labels for Typewriters b...   14.62         2    6.87  \n",
       "1  Eldon Expressions Wood and Plastic Desk Access...   48.86         7   14.17  \n",
       "2                                         Newell 322    7.28         4    1.97  \n",
       "3                     Mitel 5320 IP Phone VoIP phone  907.15         4   90.72  \n",
       "4  DXL Angle-View Binders with Locking Rings by S...   18.50         3    5.78  "
      ]
     },
     "execution_count": 7,
     "metadata": {},
     "output_type": "execute_result"
    }
   ],
   "source": [
    "data.head()"
   ]
  },
  {
   "cell_type": "code",
   "execution_count": 8,
   "id": "cc5a8f35",
   "metadata": {},
   "outputs": [
    {
     "data": {
      "text/html": [
       "<div>\n",
       "<style scoped>\n",
       "    .dataframe tbody tr th:only-of-type {\n",
       "        vertical-align: middle;\n",
       "    }\n",
       "\n",
       "    .dataframe tbody tr th {\n",
       "        vertical-align: top;\n",
       "    }\n",
       "\n",
       "    .dataframe thead th {\n",
       "        text-align: right;\n",
       "    }\n",
       "</style>\n",
       "<table border=\"1\" class=\"dataframe\">\n",
       "  <thead>\n",
       "    <tr style=\"text-align: right;\">\n",
       "      <th></th>\n",
       "      <th>OrderID</th>\n",
       "      <th>OrderDate</th>\n",
       "      <th>ShipDate</th>\n",
       "      <th>Status</th>\n",
       "      <th>CustomerName</th>\n",
       "      <th>Country</th>\n",
       "      <th>City</th>\n",
       "      <th>State</th>\n",
       "      <th>Category</th>\n",
       "      <th>ProductName</th>\n",
       "      <th>Sales</th>\n",
       "      <th>Quantity</th>\n",
       "      <th>Profit</th>\n",
       "    </tr>\n",
       "  </thead>\n",
       "  <tbody>\n",
       "    <tr>\n",
       "      <th>3092</th>\n",
       "      <td>CA-2013-125794</td>\n",
       "      <td>2022-03-16</td>\n",
       "      <td>2022-03-20</td>\n",
       "      <td>On time</td>\n",
       "      <td>MarisLaWare</td>\n",
       "      <td>United States</td>\n",
       "      <td>Los Angeles</td>\n",
       "      <td>California</td>\n",
       "      <td>Accessories</td>\n",
       "      <td>Memorex Mini Travel Drive 64 GB USB 2.0 Flash ...</td>\n",
       "      <td>36.24</td>\n",
       "      <td>1</td>\n",
       "      <td>15.22</td>\n",
       "    </tr>\n",
       "    <tr>\n",
       "      <th>3093</th>\n",
       "      <td>CA-2014-121258</td>\n",
       "      <td>2022-03-17</td>\n",
       "      <td>2022-03-21</td>\n",
       "      <td>Delay</td>\n",
       "      <td>DaveBrooks</td>\n",
       "      <td>United States</td>\n",
       "      <td>Costa Mesa</td>\n",
       "      <td>California</td>\n",
       "      <td>Furnishings</td>\n",
       "      <td>Tenex B1-RE Series Chair Mats for Low Pile Car...</td>\n",
       "      <td>91.96</td>\n",
       "      <td>2</td>\n",
       "      <td>15.63</td>\n",
       "    </tr>\n",
       "    <tr>\n",
       "      <th>3094</th>\n",
       "      <td>CA-2014-121258</td>\n",
       "      <td>2022-03-18</td>\n",
       "      <td>2022-03-22</td>\n",
       "      <td>Delay</td>\n",
       "      <td>DaveBrooks</td>\n",
       "      <td>United States</td>\n",
       "      <td>Costa Mesa</td>\n",
       "      <td>California</td>\n",
       "      <td>Phones</td>\n",
       "      <td>Aastra 57i VoIP phone</td>\n",
       "      <td>258.58</td>\n",
       "      <td>2</td>\n",
       "      <td>19.39</td>\n",
       "    </tr>\n",
       "    <tr>\n",
       "      <th>3095</th>\n",
       "      <td>CA-2014-121258</td>\n",
       "      <td>2022-03-19</td>\n",
       "      <td>2022-03-23</td>\n",
       "      <td>Delay</td>\n",
       "      <td>DaveBrooks</td>\n",
       "      <td>United States</td>\n",
       "      <td>Costa Mesa</td>\n",
       "      <td>California</td>\n",
       "      <td>Paper</td>\n",
       "      <td>It's Hot Message Books with Stickers, 2 3/4\" x...</td>\n",
       "      <td>29.60</td>\n",
       "      <td>4</td>\n",
       "      <td>13.32</td>\n",
       "    </tr>\n",
       "    <tr>\n",
       "      <th>3096</th>\n",
       "      <td>CA-2014-119914</td>\n",
       "      <td>2022-03-20</td>\n",
       "      <td>2022-03-24</td>\n",
       "      <td>Delay</td>\n",
       "      <td>ChrisCortes</td>\n",
       "      <td>United States</td>\n",
       "      <td>Westminster</td>\n",
       "      <td>California</td>\n",
       "      <td>Appliances</td>\n",
       "      <td>Acco 7-Outlet Masterpiece Power Center, Wihtou...</td>\n",
       "      <td>243.16</td>\n",
       "      <td>2</td>\n",
       "      <td>72.95</td>\n",
       "    </tr>\n",
       "  </tbody>\n",
       "</table>\n",
       "</div>"
      ],
      "text/plain": [
       "             OrderID   OrderDate    ShipDate   Status CustomerName  \\\n",
       "3092  CA-2013-125794  2022-03-16  2022-03-20  On time  MarisLaWare   \n",
       "3093  CA-2014-121258  2022-03-17  2022-03-21    Delay   DaveBrooks   \n",
       "3094  CA-2014-121258  2022-03-18  2022-03-22    Delay   DaveBrooks   \n",
       "3095  CA-2014-121258  2022-03-19  2022-03-23    Delay   DaveBrooks   \n",
       "3096  CA-2014-119914  2022-03-20  2022-03-24    Delay  ChrisCortes   \n",
       "\n",
       "            Country         City       State     Category  \\\n",
       "3092  United States  Los Angeles  California  Accessories   \n",
       "3093  United States   Costa Mesa  California  Furnishings   \n",
       "3094  United States   Costa Mesa  California       Phones   \n",
       "3095  United States   Costa Mesa  California        Paper   \n",
       "3096  United States  Westminster  California   Appliances   \n",
       "\n",
       "                                            ProductName   Sales  Quantity  \\\n",
       "3092  Memorex Mini Travel Drive 64 GB USB 2.0 Flash ...   36.24         1   \n",
       "3093  Tenex B1-RE Series Chair Mats for Low Pile Car...   91.96         2   \n",
       "3094                              Aastra 57i VoIP phone  258.58         2   \n",
       "3095  It's Hot Message Books with Stickers, 2 3/4\" x...   29.60         4   \n",
       "3096  Acco 7-Outlet Masterpiece Power Center, Wihtou...  243.16         2   \n",
       "\n",
       "      Profit  \n",
       "3092   15.22  \n",
       "3093   15.63  \n",
       "3094   19.39  \n",
       "3095   13.32  \n",
       "3096   72.95  "
      ]
     },
     "execution_count": 8,
     "metadata": {},
     "output_type": "execute_result"
    }
   ],
   "source": [
    "data.tail()"
   ]
  },
  {
   "cell_type": "code",
   "execution_count": 16,
   "id": "45892f1a",
   "metadata": {},
   "outputs": [
    {
     "name": "stdout",
     "output_type": "stream",
     "text": [
      "<class 'pandas.core.frame.DataFrame'>\n",
      "RangeIndex: 3097 entries, 0 to 3096\n",
      "Data columns (total 13 columns):\n",
      " #   Column        Non-Null Count  Dtype  \n",
      "---  ------        --------------  -----  \n",
      " 0   OrderID       3097 non-null   object \n",
      " 1   OrderDate     3097 non-null   object \n",
      " 2   ShipDate      3097 non-null   object \n",
      " 3   Status        3097 non-null   object \n",
      " 4   CustomerName  3097 non-null   object \n",
      " 5   Country       3097 non-null   object \n",
      " 6   City          3097 non-null   object \n",
      " 7   State         3097 non-null   object \n",
      " 8   Category      3097 non-null   object \n",
      " 9   ProductName   3097 non-null   object \n",
      " 10  Sales         3097 non-null   float64\n",
      " 11  Quantity      3097 non-null   int64  \n",
      " 12  Profit        3097 non-null   float64\n",
      "dtypes: float64(2), int64(1), object(10)\n",
      "memory usage: 314.7+ KB\n"
     ]
    }
   ],
   "source": [
    "data.info()"
   ]
  },
  {
   "cell_type": "code",
   "execution_count": 17,
   "id": "965e38f5",
   "metadata": {},
   "outputs": [
    {
     "data": {
      "text/html": [
       "<div>\n",
       "<style scoped>\n",
       "    .dataframe tbody tr th:only-of-type {\n",
       "        vertical-align: middle;\n",
       "    }\n",
       "\n",
       "    .dataframe tbody tr th {\n",
       "        vertical-align: top;\n",
       "    }\n",
       "\n",
       "    .dataframe thead th {\n",
       "        text-align: right;\n",
       "    }\n",
       "</style>\n",
       "<table border=\"1\" class=\"dataframe\">\n",
       "  <thead>\n",
       "    <tr style=\"text-align: right;\">\n",
       "      <th></th>\n",
       "      <th>Sales</th>\n",
       "      <th>Quantity</th>\n",
       "      <th>Profit</th>\n",
       "    </tr>\n",
       "  </thead>\n",
       "  <tbody>\n",
       "    <tr>\n",
       "      <th>count</th>\n",
       "      <td>3097.00000</td>\n",
       "      <td>3097.000000</td>\n",
       "      <td>3097.000000</td>\n",
       "    </tr>\n",
       "    <tr>\n",
       "      <th>mean</th>\n",
       "      <td>230.33486</td>\n",
       "      <td>3.819826</td>\n",
       "      <td>34.229587</td>\n",
       "    </tr>\n",
       "    <tr>\n",
       "      <th>std</th>\n",
       "      <td>532.50479</td>\n",
       "      <td>2.264307</td>\n",
       "      <td>176.887471</td>\n",
       "    </tr>\n",
       "    <tr>\n",
       "      <th>min</th>\n",
       "      <td>0.99000</td>\n",
       "      <td>1.000000</td>\n",
       "      <td>-3399.980000</td>\n",
       "    </tr>\n",
       "    <tr>\n",
       "      <th>25%</th>\n",
       "      <td>19.44000</td>\n",
       "      <td>2.000000</td>\n",
       "      <td>3.840000</td>\n",
       "    </tr>\n",
       "    <tr>\n",
       "      <th>50%</th>\n",
       "      <td>61.12000</td>\n",
       "      <td>3.000000</td>\n",
       "      <td>11.210000</td>\n",
       "    </tr>\n",
       "    <tr>\n",
       "      <th>75%</th>\n",
       "      <td>218.35000</td>\n",
       "      <td>5.000000</td>\n",
       "      <td>33.590000</td>\n",
       "    </tr>\n",
       "    <tr>\n",
       "      <th>max</th>\n",
       "      <td>13999.96000</td>\n",
       "      <td>14.000000</td>\n",
       "      <td>6719.980000</td>\n",
       "    </tr>\n",
       "  </tbody>\n",
       "</table>\n",
       "</div>"
      ],
      "text/plain": [
       "             Sales     Quantity       Profit\n",
       "count   3097.00000  3097.000000  3097.000000\n",
       "mean     230.33486     3.819826    34.229587\n",
       "std      532.50479     2.264307   176.887471\n",
       "min        0.99000     1.000000 -3399.980000\n",
       "25%       19.44000     2.000000     3.840000\n",
       "50%       61.12000     3.000000    11.210000\n",
       "75%      218.35000     5.000000    33.590000\n",
       "max    13999.96000    14.000000  6719.980000"
      ]
     },
     "execution_count": 17,
     "metadata": {},
     "output_type": "execute_result"
    }
   ],
   "source": [
    "data.describe()"
   ]
  },
  {
   "cell_type": "code",
   "execution_count": 18,
   "id": "89cf50db",
   "metadata": {},
   "outputs": [
    {
     "data": {
      "text/plain": [
       "(3097, 13)"
      ]
     },
     "execution_count": 18,
     "metadata": {},
     "output_type": "execute_result"
    }
   ],
   "source": [
    "data.shape"
   ]
  },
  {
   "cell_type": "code",
   "execution_count": 20,
   "id": "c4ac2b15",
   "metadata": {},
   "outputs": [
    {
     "data": {
      "text/plain": [
       "OrderID         0\n",
       "OrderDate       0\n",
       "ShipDate        0\n",
       "Status          0\n",
       "CustomerName    0\n",
       "Country         0\n",
       "City            0\n",
       "State           0\n",
       "Category        0\n",
       "ProductName     0\n",
       "Sales           0\n",
       "Quantity        0\n",
       "Profit          0\n",
       "dtype: int64"
      ]
     },
     "execution_count": 20,
     "metadata": {},
     "output_type": "execute_result"
    }
   ],
   "source": [
    "data.isna().sum()"
   ]
  },
  {
   "cell_type": "code",
   "execution_count": 29,
   "id": "7608a0b7",
   "metadata": {},
   "outputs": [
    {
     "data": {
      "text/plain": [
       "OrderID         3097\n",
       "OrderDate       3097\n",
       "ShipDate        3097\n",
       "Status          3097\n",
       "CustomerName    3097\n",
       "Country         3097\n",
       "City            3097\n",
       "State           3097\n",
       "Category        3097\n",
       "ProductName     3097\n",
       "Sales           3097\n",
       "Quantity        3097\n",
       "Profit          3097\n",
       "dtype: int64"
      ]
     },
     "execution_count": 29,
     "metadata": {},
     "output_type": "execute_result"
    }
   ],
   "source": [
    "data.count()"
   ]
  },
  {
   "cell_type": "code",
   "execution_count": 30,
   "id": "451803c0",
   "metadata": {},
   "outputs": [
    {
     "data": {
      "text/plain": [
       "0       False\n",
       "1       False\n",
       "2       False\n",
       "3       False\n",
       "4       False\n",
       "        ...  \n",
       "3092    False\n",
       "3093    False\n",
       "3094    False\n",
       "3095    False\n",
       "3096    False\n",
       "Length: 3097, dtype: bool"
      ]
     },
     "execution_count": 30,
     "metadata": {},
     "output_type": "execute_result"
    }
   ],
   "source": [
    "data.duplicated()"
   ]
  },
  {
   "cell_type": "code",
   "execution_count": 32,
   "id": "0a151031",
   "metadata": {},
   "outputs": [
    {
     "data": {
      "text/plain": [
       "Status\n",
       "On time    1850\n",
       "Delay      1247\n",
       "Name: count, dtype: int64"
      ]
     },
     "execution_count": 32,
     "metadata": {},
     "output_type": "execute_result"
    }
   ],
   "source": [
    "data.value_counts('Status')"
   ]
  },
  {
   "cell_type": "code",
   "execution_count": 34,
   "id": "f98a8a0b",
   "metadata": {},
   "outputs": [
    {
     "data": {
      "text/plain": [
       "Country\n",
       "United States    3097\n",
       "Name: count, dtype: int64"
      ]
     },
     "execution_count": 34,
     "metadata": {},
     "output_type": "execute_result"
    }
   ],
   "source": [
    "data.value_counts('Country')"
   ]
  },
  {
   "cell_type": "code",
   "execution_count": 43,
   "id": "2ddd3f31",
   "metadata": {},
   "outputs": [
    {
     "data": {
      "text/plain": [
       "City\n",
       "Los Angeles      731\n",
       "San Francisco    493\n",
       "Seattle          411\n",
       "San Diego        166\n",
       "Phoenix           61\n",
       "Name: count, dtype: int64"
      ]
     },
     "execution_count": 43,
     "metadata": {},
     "output_type": "execute_result"
    }
   ],
   "source": [
    "data.value_counts('City').head()"
   ]
  },
  {
   "cell_type": "code",
   "execution_count": 41,
   "id": "b2ef3023",
   "metadata": {},
   "outputs": [
    {
     "data": {
      "text/plain": [
       "State\n",
       "California    1941\n",
       "Washington     486\n",
       "Arizona        216\n",
       "Colorado       178\n",
       "Oregon         120\n",
       "Name: count, dtype: int64"
      ]
     },
     "execution_count": 41,
     "metadata": {},
     "output_type": "execute_result"
    }
   ],
   "source": [
    "data.value_counts('State').head()"
   ]
  },
  {
   "cell_type": "code",
   "execution_count": 46,
   "id": "13461b8e",
   "metadata": {},
   "outputs": [
    {
     "data": {
      "text/plain": [
       "Sales\n",
       "12.96     26\n",
       "19.44     20\n",
       "32.40     13\n",
       "25.92      9\n",
       "302.38     9\n",
       "Name: count, dtype: int64"
      ]
     },
     "execution_count": 46,
     "metadata": {},
     "output_type": "execute_result"
    }
   ],
   "source": [
    "data.value_counts('Sales').head()"
   ]
  },
  {
   "cell_type": "code",
   "execution_count": 50,
   "id": "6793b430",
   "metadata": {},
   "outputs": [
    {
     "data": {
      "text/plain": [
       "Profit\n",
       "6.22     25\n",
       "9.33     20\n",
       "0.00     20\n",
       "15.55    11\n",
       "3.11      9\n",
       "Name: count, dtype: int64"
      ]
     },
     "execution_count": 50,
     "metadata": {},
     "output_type": "execute_result"
    }
   ],
   "source": [
    "data.value_counts('Profit').head()"
   ]
  },
  {
   "cell_type": "code",
   "execution_count": 52,
   "id": "6d188876",
   "metadata": {},
   "outputs": [
    {
     "data": {
      "text/plain": [
       "ProductName\n",
       "Staples                                                                  60\n",
       "Avery Non-Stick Binders                                                   8\n",
       "Cardinal Slant-D Ring Binder, Heavy Gauge Vinyl                           7\n",
       "SAFCO Arco Folding Chair                                                  7\n",
       "Xerox 225                                                                 7\n",
       "                                                                         ..\n",
       "Lexmark MX611dhe Monochrome Laser Printer                                 1\n",
       "Linden 12\" Wall Clock With Oak Frame\"                                     1\n",
       "Logitech G430 Surround Sound Gaming Headset with Dolby 7.1 Technology     1\n",
       "Advantus Panel Wall Acrylic Frame                                         1\n",
       "#10 Self-Seal White Envelopes                                             1\n",
       "Name: count, Length: 1447, dtype: int64"
      ]
     },
     "execution_count": 52,
     "metadata": {},
     "output_type": "execute_result"
    }
   ],
   "source": [
    "data.value_counts('ProductName')"
   ]
  },
  {
   "cell_type": "code",
   "execution_count": 56,
   "id": "551eb2f5",
   "metadata": {},
   "outputs": [
    {
     "data": {
      "text/html": [
       "<div>\n",
       "<style scoped>\n",
       "    .dataframe tbody tr th:only-of-type {\n",
       "        vertical-align: middle;\n",
       "    }\n",
       "\n",
       "    .dataframe tbody tr th {\n",
       "        vertical-align: top;\n",
       "    }\n",
       "\n",
       "    .dataframe thead th {\n",
       "        text-align: right;\n",
       "    }\n",
       "</style>\n",
       "<table border=\"1\" class=\"dataframe\">\n",
       "  <thead>\n",
       "    <tr style=\"text-align: right;\">\n",
       "      <th></th>\n",
       "      <th>OrderID</th>\n",
       "      <th>OrderDate</th>\n",
       "      <th>ShipDate</th>\n",
       "      <th>Status</th>\n",
       "      <th>CustomerName</th>\n",
       "      <th>Country</th>\n",
       "      <th>City</th>\n",
       "      <th>State</th>\n",
       "      <th>Category</th>\n",
       "      <th>ProductName</th>\n",
       "      <th>Sales</th>\n",
       "      <th>Quantity</th>\n",
       "      <th>Profit</th>\n",
       "    </tr>\n",
       "  </thead>\n",
       "  <tbody>\n",
       "    <tr>\n",
       "      <th>2574</th>\n",
       "      <td>CA-2014-140151</td>\n",
       "      <td>2020-09-27</td>\n",
       "      <td>2020-10-01</td>\n",
       "      <td>On time</td>\n",
       "      <td>RaymondBuch</td>\n",
       "      <td>United States</td>\n",
       "      <td>Seattle</td>\n",
       "      <td>Washington</td>\n",
       "      <td>Copiers</td>\n",
       "      <td>Canon imageCLASS 2200 Advanced Copier</td>\n",
       "      <td>13999.96</td>\n",
       "      <td>4</td>\n",
       "      <td>6719.98</td>\n",
       "    </tr>\n",
       "    <tr>\n",
       "      <th>768</th>\n",
       "      <td>CA-2011-143917</td>\n",
       "      <td>2015-08-21</td>\n",
       "      <td>2015-08-25</td>\n",
       "      <td>On time</td>\n",
       "      <td>KenLonsdale</td>\n",
       "      <td>United States</td>\n",
       "      <td>San Francisco</td>\n",
       "      <td>California</td>\n",
       "      <td>Supplies</td>\n",
       "      <td>High Speed Automatic Electric Letter Opener</td>\n",
       "      <td>8187.65</td>\n",
       "      <td>5</td>\n",
       "      <td>327.51</td>\n",
       "    </tr>\n",
       "    <tr>\n",
       "      <th>2750</th>\n",
       "      <td>CA-2014-135909</td>\n",
       "      <td>2021-03-29</td>\n",
       "      <td>2021-04-02</td>\n",
       "      <td>Delay</td>\n",
       "      <td>JaneWaco</td>\n",
       "      <td>United States</td>\n",
       "      <td>Sacramento</td>\n",
       "      <td>California</td>\n",
       "      <td>Binders</td>\n",
       "      <td>Fellowes PB500 Electric Punch Plastic Comb Bin...</td>\n",
       "      <td>5083.96</td>\n",
       "      <td>5</td>\n",
       "      <td>1906.49</td>\n",
       "    </tr>\n",
       "    <tr>\n",
       "      <th>1848</th>\n",
       "      <td>CA-2013-136301</td>\n",
       "      <td>2018-09-08</td>\n",
       "      <td>2018-09-12</td>\n",
       "      <td>On time</td>\n",
       "      <td>EdwardHooks</td>\n",
       "      <td>United States</td>\n",
       "      <td>San Francisco</td>\n",
       "      <td>California</td>\n",
       "      <td>Supplies</td>\n",
       "      <td>High Speed Automatic Electric Letter Opener</td>\n",
       "      <td>4912.59</td>\n",
       "      <td>3</td>\n",
       "      <td>196.50</td>\n",
       "    </tr>\n",
       "    <tr>\n",
       "      <th>1271</th>\n",
       "      <td>CA-2014-149881</td>\n",
       "      <td>2017-01-22</td>\n",
       "      <td>2017-01-26</td>\n",
       "      <td>On time</td>\n",
       "      <td>NickCrebassa</td>\n",
       "      <td>United States</td>\n",
       "      <td>San Francisco</td>\n",
       "      <td>California</td>\n",
       "      <td>Machines</td>\n",
       "      <td>Cubify CubeX 3D Printer Double Head Print</td>\n",
       "      <td>4799.98</td>\n",
       "      <td>2</td>\n",
       "      <td>360.00</td>\n",
       "    </tr>\n",
       "  </tbody>\n",
       "</table>\n",
       "</div>"
      ],
      "text/plain": [
       "             OrderID   OrderDate    ShipDate   Status  CustomerName  \\\n",
       "2574  CA-2014-140151  2020-09-27  2020-10-01  On time   RaymondBuch   \n",
       "768   CA-2011-143917  2015-08-21  2015-08-25  On time   KenLonsdale   \n",
       "2750  CA-2014-135909  2021-03-29  2021-04-02    Delay      JaneWaco   \n",
       "1848  CA-2013-136301  2018-09-08  2018-09-12  On time   EdwardHooks   \n",
       "1271  CA-2014-149881  2017-01-22  2017-01-26  On time  NickCrebassa   \n",
       "\n",
       "            Country           City       State  Category  \\\n",
       "2574  United States        Seattle  Washington   Copiers   \n",
       "768   United States  San Francisco  California  Supplies   \n",
       "2750  United States     Sacramento  California   Binders   \n",
       "1848  United States  San Francisco  California  Supplies   \n",
       "1271  United States  San Francisco  California  Machines   \n",
       "\n",
       "                                            ProductName     Sales  Quantity  \\\n",
       "2574              Canon imageCLASS 2200 Advanced Copier  13999.96         4   \n",
       "768         High Speed Automatic Electric Letter Opener   8187.65         5   \n",
       "2750  Fellowes PB500 Electric Punch Plastic Comb Bin...   5083.96         5   \n",
       "1848        High Speed Automatic Electric Letter Opener   4912.59         3   \n",
       "1271          Cubify CubeX 3D Printer Double Head Print   4799.98         2   \n",
       "\n",
       "       Profit  \n",
       "2574  6719.98  \n",
       "768    327.51  \n",
       "2750  1906.49  \n",
       "1848   196.50  \n",
       "1271   360.00  "
      ]
     },
     "execution_count": 56,
     "metadata": {},
     "output_type": "execute_result"
    }
   ],
   "source": [
    "data.sort_values(by='Sales', ascending=False).head()"
   ]
  },
  {
   "cell_type": "code",
   "execution_count": 57,
   "id": "7df26e3c",
   "metadata": {},
   "outputs": [
    {
     "data": {
      "text/html": [
       "<div>\n",
       "<style scoped>\n",
       "    .dataframe tbody tr th:only-of-type {\n",
       "        vertical-align: middle;\n",
       "    }\n",
       "\n",
       "    .dataframe tbody tr th {\n",
       "        vertical-align: top;\n",
       "    }\n",
       "\n",
       "    .dataframe thead th {\n",
       "        text-align: right;\n",
       "    }\n",
       "</style>\n",
       "<table border=\"1\" class=\"dataframe\">\n",
       "  <thead>\n",
       "    <tr style=\"text-align: right;\">\n",
       "      <th></th>\n",
       "      <th>OrderID</th>\n",
       "      <th>OrderDate</th>\n",
       "      <th>ShipDate</th>\n",
       "      <th>Status</th>\n",
       "      <th>CustomerName</th>\n",
       "      <th>Country</th>\n",
       "      <th>City</th>\n",
       "      <th>State</th>\n",
       "      <th>Category</th>\n",
       "      <th>ProductName</th>\n",
       "      <th>Sales</th>\n",
       "      <th>Quantity</th>\n",
       "      <th>Profit</th>\n",
       "    </tr>\n",
       "  </thead>\n",
       "  <tbody>\n",
       "    <tr>\n",
       "      <th>2229</th>\n",
       "      <td>CA-2011-143168</td>\n",
       "      <td>2019-10-09</td>\n",
       "      <td>2019-10-13</td>\n",
       "      <td>Delay</td>\n",
       "      <td>IvanGibson</td>\n",
       "      <td>United States</td>\n",
       "      <td>Seattle</td>\n",
       "      <td>Washington</td>\n",
       "      <td>Binders</td>\n",
       "      <td>Computer Printout Index Tabs</td>\n",
       "      <td>1.34</td>\n",
       "      <td>1</td>\n",
       "      <td>0.47</td>\n",
       "    </tr>\n",
       "    <tr>\n",
       "      <th>1926</th>\n",
       "      <td>US-2014-162068</td>\n",
       "      <td>2018-11-29</td>\n",
       "      <td>2018-12-03</td>\n",
       "      <td>On time</td>\n",
       "      <td>PamelaCoakley</td>\n",
       "      <td>United States</td>\n",
       "      <td>Loveland</td>\n",
       "      <td>Colorado</td>\n",
       "      <td>Binders</td>\n",
       "      <td>Avery Reinforcements for Hole-Punch Pages</td>\n",
       "      <td>1.19</td>\n",
       "      <td>2</td>\n",
       "      <td>-0.99</td>\n",
       "    </tr>\n",
       "    <tr>\n",
       "      <th>1522</th>\n",
       "      <td>CA-2012-106978</td>\n",
       "      <td>2017-10-06</td>\n",
       "      <td>2017-10-10</td>\n",
       "      <td>Delay</td>\n",
       "      <td>ZuschussCarroll</td>\n",
       "      <td>United States</td>\n",
       "      <td>Aurora</td>\n",
       "      <td>Colorado</td>\n",
       "      <td>Binders</td>\n",
       "      <td>Wilson Jones Easy Flow II Sheet Lifters</td>\n",
       "      <td>1.08</td>\n",
       "      <td>2</td>\n",
       "      <td>-0.79</td>\n",
       "    </tr>\n",
       "    <tr>\n",
       "      <th>286</th>\n",
       "      <td>US-2014-100209</td>\n",
       "      <td>2014-04-04</td>\n",
       "      <td>2014-04-08</td>\n",
       "      <td>Delay</td>\n",
       "      <td>TamaraDahlen</td>\n",
       "      <td>United States</td>\n",
       "      <td>Portland</td>\n",
       "      <td>Oregon</td>\n",
       "      <td>Binders</td>\n",
       "      <td>Wilson Jones Easy Flow II Sheet Lifters</td>\n",
       "      <td>1.08</td>\n",
       "      <td>2</td>\n",
       "      <td>-0.79</td>\n",
       "    </tr>\n",
       "    <tr>\n",
       "      <th>844</th>\n",
       "      <td>CA-2014-126536</td>\n",
       "      <td>2015-11-09</td>\n",
       "      <td>2015-11-13</td>\n",
       "      <td>On time</td>\n",
       "      <td>NeilKnudson</td>\n",
       "      <td>United States</td>\n",
       "      <td>San Francisco</td>\n",
       "      <td>California</td>\n",
       "      <td>Accessories</td>\n",
       "      <td>Maxell 4.7GB DVD-R 5/Pack</td>\n",
       "      <td>0.99</td>\n",
       "      <td>1</td>\n",
       "      <td>0.44</td>\n",
       "    </tr>\n",
       "  </tbody>\n",
       "</table>\n",
       "</div>"
      ],
      "text/plain": [
       "             OrderID   OrderDate    ShipDate   Status     CustomerName  \\\n",
       "2229  CA-2011-143168  2019-10-09  2019-10-13    Delay       IvanGibson   \n",
       "1926  US-2014-162068  2018-11-29  2018-12-03  On time    PamelaCoakley   \n",
       "1522  CA-2012-106978  2017-10-06  2017-10-10    Delay  ZuschussCarroll   \n",
       "286   US-2014-100209  2014-04-04  2014-04-08    Delay     TamaraDahlen   \n",
       "844   CA-2014-126536  2015-11-09  2015-11-13  On time      NeilKnudson   \n",
       "\n",
       "            Country           City       State     Category  \\\n",
       "2229  United States        Seattle  Washington      Binders   \n",
       "1926  United States       Loveland    Colorado      Binders   \n",
       "1522  United States         Aurora    Colorado      Binders   \n",
       "286   United States       Portland      Oregon      Binders   \n",
       "844   United States  San Francisco  California  Accessories   \n",
       "\n",
       "                                    ProductName  Sales  Quantity  Profit  \n",
       "2229               Computer Printout Index Tabs   1.34         1    0.47  \n",
       "1926  Avery Reinforcements for Hole-Punch Pages   1.19         2   -0.99  \n",
       "1522    Wilson Jones Easy Flow II Sheet Lifters   1.08         2   -0.79  \n",
       "286     Wilson Jones Easy Flow II Sheet Lifters   1.08         2   -0.79  \n",
       "844                   Maxell 4.7GB DVD-R 5/Pack   0.99         1    0.44  "
      ]
     },
     "execution_count": 57,
     "metadata": {},
     "output_type": "execute_result"
    }
   ],
   "source": [
    "data.sort_values(by='Sales', ascending=False).tail()"
   ]
  },
  {
   "cell_type": "code",
   "execution_count": 21,
   "id": "0adfb578",
   "metadata": {},
   "outputs": [
    {
     "data": {
      "text/plain": [
       "<seaborn.axisgrid.PairGrid at 0x262d997b8b0>"
      ]
     },
     "execution_count": 21,
     "metadata": {},
     "output_type": "execute_result"
    },
    {
     "data": {
      "image/png": "[encoded data removed]",
      "text/plain": [
       "<Figure size 750x750 with 12 Axes>"
      ]
     },
     "metadata": {},
     "output_type": "display_data"
    }
   ],
   "source": [
    "sns.pairplot(data)"
   ]
  },
  {
   "cell_type": "code",
   "execution_count": 25,
   "id": "1b99d5a0",
   "metadata": {},
   "outputs": [
    {
     "data": {
      "text/plain": [
       "<Axes: ylabel='count'>"
      ]
     },
     "execution_count": 25,
     "metadata": {},
     "output_type": "execute_result"
    },
    {
     "data": {
      "image/png": "[encoded data removed]",
      "text/plain": [
       "<Figure size 640x480 with 1 Axes>"
      ]
     },
     "metadata": {},
     "output_type": "display_data"
    }
   ],
   "source": [
    "sns.countplot(data)"
   ]
  },
  {
   "cell_type": "code",
   "execution_count": null,
   "id": "21a2dac7",
   "metadata": {},
   "outputs": [],
   "source": []
  }
 ],
 "metadata": {
  "kernelspec": {
   "display_name": "Python 3 (ipykernel)",
   "language": "python",
   "name": "python3"
  },
  "language_info": {
   "codemirror_mode": {
    "name": "ipython",
    "version": 3
   },
   "file_extension": ".py",
   "mimetype": "text/x-python",
   "name": "python",
   "nbconvert_exporter": "python",
   "pygments_lexer": "ipython3",
   "version": "3.10.13"
  }
 },
 "nbformat": 4,
 "nbformat_minor": 5
}
